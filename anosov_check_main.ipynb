{
 "cells": [
  {
   "cell_type": "markdown",
   "id": "d3945419-7998-4392-8ad2-1b4c86151c64",
   "metadata": {},
   "source": [
    "# Checking the straight-and-spaced condition\n",
    "\n",
    "This notebook gives an implementation of the straight-and-spaced check for Anosov representations described in [LINK GOES HERE].\n",
    "\n",
    "**Before attempting to run the notebook, please consult the README.md file for instructions on how to install required tools.**"
   ]
  },
  {
   "cell_type": "code",
   "execution_count": 2,
   "id": "3a8cd76a-9469-4fe3-8ffa-973baac6ad4e",
   "metadata": {},
   "outputs": [],
   "source": [
    "import numpy as np\n",
    "\n",
    "from geometry_tools import representation, utils\n",
    "from geometry_tools.automata import fsa"
   ]
  },
  {
   "cell_type": "markdown",
   "id": "00e2b941-c09e-4712-9d96-9d54b716aee6",
   "metadata": {},
   "source": [
    "First, define the specific representation we will test; this is a Hitchin representation in the Fuchsian locus. Each generator is of the form $R_{\\pi/4}^n \\cdot L \\cdot R_{\\pi/4}^{-n}$ for $n = 0, 1, 2, 3$, where $L$ is a loxodromic isometry with axis passing through a point $x_0$ in $\\mathbb{H}^2$, and and $R_\\theta$ is the rotation in $\\mathbb{H}^2$ of angle $\\theta$ about $x_0$."
   ]
  },
  {
   "cell_type": "code",
   "execution_count": 6,
   "id": "efdbca35-5762-4642-a7ac-a2b2522e79d6",
   "metadata": {},
   "outputs": [],
   "source": [
    "t = 2*np.arccosh(1/np.tan(np.pi/8))\n",
    "c = np.cosh(t)\n",
    "s = np.sinh(t)\n",
    "\n",
    "angle = np.pi / 4\n",
    "\n",
    "rotation = np.array([\n",
    "    [np.cos(angle), np.sin(angle), 0],\n",
    "    [-np.sin(angle), np.cos(angle), 0],\n",
    "    [0, 0, 1]\n",
    "])\n",
    "\n",
    "loxodromic = np.array([[c,0,s],[0,1,0],[s,0,c]])\n",
    "\n",
    "rep = representation.Representation()\n",
    "# define r and a; the other generators are conjugates of a by powers of r\n",
    "rep[\"a\"] = loxodromic\n",
    "rep[\"r\"] = rotation\n",
    "\n",
    "rep[\"b\"] = rep[\"raR\"]\n",
    "rep[\"c\"] = rep[\"rraRR\"]\n",
    "rep[\"d\"] = rep[\"rrraRRR\"]"
   ]
  },
  {
   "cell_type": "markdown",
   "id": "ed9beb4a-0320-4e18-bcf2-3946e99d378d",
   "metadata": {},
   "source": [
    "As a sanity check, we can test to see if the relation for this surface group holds for this representation (at least up to numerical error). "
   ]
  },
  {
   "cell_type": "code",
   "execution_count": 8,
   "id": "939c111f-2d87-46de-b512-8d294ad73d6c",
   "metadata": {},
   "outputs": [
    {
     "data": {
      "text/plain": [
       "array([[ 1.00000000e+00,  6.69855870e-12,  1.74880846e-11],\n",
       "       [ 9.67322501e-12,  1.00000000e+00, -1.06107200e-11],\n",
       "       [-9.55834110e-12,  3.59444935e-12,  1.00000000e+00]])"
      ]
     },
     "execution_count": 8,
     "metadata": {},
     "output_type": "execute_result"
    }
   ],
   "source": [
    "relation = \"adCbADcB\"\n",
    "rep[relation] # result should be close to the 3x3 identity matrix"
   ]
  },
  {
   "cell_type": "code",
   "execution_count": null,
   "id": "44bae020-82d2-45a1-bb50-7f9a8788ce53",
   "metadata": {},
   "outputs": [],
   "source": []
  }
 ],
 "metadata": {
  "kernelspec": {
   "display_name": "Python 3 (ipykernel)",
   "language": "python",
   "name": "python3"
  },
  "language_info": {
   "codemirror_mode": {
    "name": "ipython",
    "version": 3
   },
   "file_extension": ".py",
   "mimetype": "text/x-python",
   "name": "python",
   "nbconvert_exporter": "python",
   "pygments_lexer": "ipython3",
   "version": "3.10.12"
  }
 },
 "nbformat": 4,
 "nbformat_minor": 5
}
